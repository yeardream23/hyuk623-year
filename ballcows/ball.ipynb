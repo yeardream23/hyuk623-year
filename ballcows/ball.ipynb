{
 "cells": [
  {
   "attachments": {},
   "cell_type": "markdown",
   "metadata": {},
   "source": [
    "# 볼게임 기능 구현 ipynb 파일"
   ]
  },
  {
   "attachments": {},
   "cell_type": "markdown",
   "metadata": {},
   "source": [
    "## 공유정보\n",
    "- 사용자의 입력 값 변수명은 Number로 통일(팀 wiki참고)\n",
    "- 컴퓨터의 숫자는 list로 선언\n",
    "- 각 기능은 함수 형태로 구현\n"
   ]
  },
  {
   "attachments": {},
   "cell_type": "markdown",
   "metadata": {},
   "source": [
    "### 1.숫자 생성 기능"
   ]
  },
  {
   "cell_type": "code",
   "execution_count": null,
   "metadata": {},
   "outputs": [],
   "source": [
    "import random\n",
    "\n",
    "#랜덤 난수 생성 함수\n",
    "def generate_random_number():\n",
    "    while True: #잘못 입력 시 재입력\n",
    "        digit_number = int(input('What length of number? (3-5): '))\n",
    "        if digit_number >= 3 and digit_number <= 5:\n",
    "            return random.sample(range(0, 10), digit_number) #중복 제거\n",
    "        else:\n",
    "            print('Length of number must be between 3 and 5 :)')\n",
    "\n",
    "print(generate_random_number())"
   ]
  },
  {
   "attachments": {},
   "cell_type": "markdown",
   "metadata": {},
   "source": [
    "### 2. 숫자 비교 기능"
   ]
  },
  {
   "attachments": {},
   "cell_type": "markdown",
   "metadata": {},
   "source": [
    "### Bulls와 Cows의 개념\n",
    "- Bulls = correct code, correct position.\n",
    "- Cows = correct code, wrong position.\n",
    "\n",
    "### compare_numbers 함수\n",
    "기능: 정답 숫자와 사용자 입력 숫자를 비교\n",
    "\n",
    "- hidden_code: 정답 숫자 리스트\n",
    "e.g. hidden_code = [1, 2, 3, 4]\n",
    "\n",
    "- guessed_code: 추측 숫자(사용자 입력) 리스트\n",
    "e.g. gueesed_code = [1, 4, 5, 7]\n",
    "\n",
    "### guessed_code_to_number 함수\n",
    "기능: 사용자가 입력한 값을 숫자로 변환(추가 기능 구현 시 사용할 듯)\n"
   ]
  },
  {
   "cell_type": "code",
   "execution_count": 2,
   "metadata": {},
   "outputs": [
    {
     "name": "stdout",
     "output_type": "stream",
     "text": [
      "게임을 클리어 하셨습니다.\n"
     ]
    }
   ],
   "source": [
    "def compare_numbers(hidden_code, guessed_code):\n",
    "    bulls, cows = 0, 0\n",
    "    for (hc, gc) in zip(hidden_code, guessed_code):\n",
    "        if hc == gc:\n",
    "            bulls += 1\n",
    "        elif gc in hidden_code:\n",
    "            cows += 1\n",
    "    str = ''\n",
    "    if bulls == 4:\n",
    "        str = '게임을 클리어 하셨습니다.'\n",
    "    else:\n",
    "        str=f'bulls: {bulls}, cows: {cows}'\n",
    "    print(str)\n",
    "\n",
    "    return\n"
   ]
  },
  {
   "attachments": {},
   "cell_type": "markdown",
   "metadata": {},
   "source": [
    "### 3. 숫자 입력 기능"
   ]
  },
  {
   "cell_type": "code",
   "execution_count": null,
   "metadata": {},
   "outputs": [],
   "source": []
  }
 ],
 "metadata": {
  "kernelspec": {
   "display_name": "Python 3",
   "language": "python",
   "name": "python3"
  },
  "language_info": {
   "codemirror_mode": {
    "name": "ipython",
    "version": 3
   },
   "file_extension": ".py",
   "mimetype": "text/x-python",
   "name": "python",
   "nbconvert_exporter": "python",
   "pygments_lexer": "ipython3",
   "version": "3.10.11"
  },
  "orig_nbformat": 4
 },
 "nbformat": 4,
 "nbformat_minor": 2
}
