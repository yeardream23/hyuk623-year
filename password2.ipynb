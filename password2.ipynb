import numpy as np
import random as rand
import string
import pandas as pd
import math

# 알파벳 소문자 문자열 생성
alphabets = string.ascii_lowercase

# 딕셔너리를 이용하여 DataFrame 생성
data = {}
for i in range(len(alphabets)):
    data[alphabets[i]] = i

# 딕셔너리를 판다스 데이터프레임 생성
df = pd.DataFrame({
    'idx' : data.values(),
    'alphabet' : data.keys()
})

x=int(input('몇 칸? : '))

str = 'cat meow'



index_list=[]
for i in str:
    if i == ' ':
        pass
    else:
        index_list.append(df.loc[df['alphabet']==i]['idx'].iloc[0])

new_index_list=[]
for i in index_list:
    if (i+x) > 25:
        (i+x) % 25
    else:
        new_index_list.append(i + x)
result=[]
for i in new_index_list:
    result.append(df.iloc[i][1])

''.join(result #이건 안올릴거야)
